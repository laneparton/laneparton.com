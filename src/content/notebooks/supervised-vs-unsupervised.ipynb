{
 "cells": [
  {
   "cell_type": "markdown",
   "metadata": {},
   "source": [
    "# Supervised vs Unsupervised Learning\n",
    "\n",
    "Machine learning - \"field of study that gives computers the abilit to learn without being explicitly programmed\"\n",
    "  - Arthur Samuel (1959)\n",
    "\n",
    "## Supervised learning\n",
    "- Used most in real-world applications, most rapid advancements\n",
    "- Supervised learning learns input to output mappings (you give examples/outputs) - input(x) -> output(y)\n",
    "- How do you decide what function to use to predict y given x? (curved line, straight line, etc)\n",
    "- **Regression** - predict a number (out of infinitely possible numbers)\n",
    "- **Classification** - Predict categories, small number of possible outputs\n",
    "  - How does this differ from regression? There are only two possible outputs.\n",
    "  - Output Class = Output Category\n",
    "  - Two or more inputs - can help build a boundary line\n",
    "## Unsupervised learning**\n",
    "- Data only comes with inputs x, but not output labels y and the algorithm has to find strucutre in the data.\n",
    "- Find something interesting in unlabeled data.\n",
    "- **Clustering** - Takes data without labels and tries to group them\n",
    "- **Anomaly detection** - Find unsuual data points\n",
    "- **Dimensionality reduction** - compress data using fewer numbers"
   ]
  }
 ],
 "metadata": {
  "language_info": {
   "name": "python"
  }
 },
 "nbformat": 4,
 "nbformat_minor": 2
}
